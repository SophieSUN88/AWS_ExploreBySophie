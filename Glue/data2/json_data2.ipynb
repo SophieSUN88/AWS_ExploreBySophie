{
 "cells": [
  {
   "cell_type": "code",
   "execution_count": 2,
   "metadata": {},
   "outputs": [],
   "source": [
    "from faker import Faker\n",
    "import json\n",
    "import pandas as pd\n",
    "\n",
    "f = Faker()"
   ]
  },
  {
   "cell_type": "code",
   "execution_count": 3,
   "metadata": {},
   "outputs": [
    {
     "data": {
      "text/html": [
       "<div>\n",
       "<style scoped>\n",
       "    .dataframe tbody tr th:only-of-type {\n",
       "        vertical-align: middle;\n",
       "    }\n",
       "\n",
       "    .dataframe tbody tr th {\n",
       "        vertical-align: top;\n",
       "    }\n",
       "\n",
       "    .dataframe thead th {\n",
       "        text-align: right;\n",
       "    }\n",
       "</style>\n",
       "<table border=\"1\" class=\"dataframe\">\n",
       "  <thead>\n",
       "    <tr style=\"text-align: right;\">\n",
       "      <th></th>\n",
       "      <th>firstname</th>\n",
       "      <th>lastname</th>\n",
       "      <th>address</th>\n",
       "    </tr>\n",
       "  </thead>\n",
       "  <tbody>\n",
       "    <tr>\n",
       "      <th>0</th>\n",
       "      <td>Lisa</td>\n",
       "      <td>Schwartz</td>\n",
       "      <td>{'state': 'Idaho', 'city': 'Michellemouth', 'z...</td>\n",
       "    </tr>\n",
       "    <tr>\n",
       "      <th>1</th>\n",
       "      <td>Timothy</td>\n",
       "      <td>Johnson</td>\n",
       "      <td>{'state': 'Maine', 'city': 'Michaelfort', 'zip...</td>\n",
       "    </tr>\n",
       "    <tr>\n",
       "      <th>2</th>\n",
       "      <td>Jermaine</td>\n",
       "      <td>Sanchez</td>\n",
       "      <td>{'state': 'Kentucky', 'city': 'Taylorchester',...</td>\n",
       "    </tr>\n",
       "    <tr>\n",
       "      <th>3</th>\n",
       "      <td>Christopher</td>\n",
       "      <td>Steele</td>\n",
       "      <td>{'state': 'Georgia', 'city': 'West Hannahmouth...</td>\n",
       "    </tr>\n",
       "    <tr>\n",
       "      <th>4</th>\n",
       "      <td>Nicole</td>\n",
       "      <td>Rivera</td>\n",
       "      <td>{'state': 'Washington', 'city': 'North Breanna...</td>\n",
       "    </tr>\n",
       "  </tbody>\n",
       "</table>\n",
       "</div>"
      ],
      "text/plain": [
       "     firstname  lastname                                            address\n",
       "0         Lisa  Schwartz  {'state': 'Idaho', 'city': 'Michellemouth', 'z...\n",
       "1      Timothy   Johnson  {'state': 'Maine', 'city': 'Michaelfort', 'zip...\n",
       "2     Jermaine   Sanchez  {'state': 'Kentucky', 'city': 'Taylorchester',...\n",
       "3  Christopher    Steele  {'state': 'Georgia', 'city': 'West Hannahmouth...\n",
       "4       Nicole    Rivera  {'state': 'Washington', 'city': 'North Breanna..."
      ]
     },
     "execution_count": 3,
     "metadata": {},
     "output_type": "execute_result"
    }
   ],
   "source": [
    "\n",
    "data = {\n",
    "    \"firstname\" : [],\n",
    "    \"lastname\" : [],\n",
    "    \"address\":[]\n",
    "}\n",
    "for i in range(5):\n",
    "    data[\"firstname\"].append(f.unique.first_name())\n",
    "    data[\"lastname\"].append(f.unique.last_name())\n",
    "    data[\"address\"].append(\n",
    "        {\n",
    "            \"state\":f.unique.state(),\n",
    "            \"city\":f.unique.city(),\n",
    "            \"zipcode\":f.unique.zipcode()\n",
    "        }\n",
    "    )\n",
    "\n",
    "df = pd.DataFrame.from_dict(data)\n",
    "df"
   ]
  },
  {
   "cell_type": "code",
   "execution_count": 4,
   "metadata": {},
   "outputs": [],
   "source": [
    "df.to_json(\"json_data2.json\",orient='records', lines=True)"
   ]
  },
  {
   "cell_type": "code",
   "execution_count": 5,
   "metadata": {},
   "outputs": [],
   "source": [
    "df.to_csv(\"csv_data2.csv\",index=False)"
   ]
  }
 ],
 "metadata": {
  "kernelspec": {
   "display_name": "Python 3",
   "language": "python",
   "name": "python3"
  },
  "language_info": {
   "codemirror_mode": {
    "name": "ipython",
    "version": 3
   },
   "file_extension": ".py",
   "mimetype": "text/x-python",
   "name": "python",
   "nbconvert_exporter": "python",
   "pygments_lexer": "ipython3",
   "version": "3.9.6"
  },
  "orig_nbformat": 4
 },
 "nbformat": 4,
 "nbformat_minor": 2
}
