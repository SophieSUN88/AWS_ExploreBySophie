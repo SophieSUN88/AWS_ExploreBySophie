{
 "cells": [
  {
   "cell_type": "code",
   "execution_count": null,
   "metadata": {},
   "outputs": [],
   "source": [
    "from faker import Faker\n",
    "import json\n",
    "import pandas as pd\n",
    "\n",
    "f = Faker()"
   ]
  },
  {
   "cell_type": "code",
   "execution_count": null,
   "metadata": {},
   "outputs": [],
   "source": [
    "\n",
    "data = {\n",
    "    \"firstname\" : [],\n",
    "    \"lastname\" : [],\n",
    "    \"address\":[]\n",
    "}\n",
    "for i in range(5):\n",
    "    data[\"firstname\"].append(f.unique.first_name())\n",
    "    data[\"lastname\"].append(f.unique.last_name())\n",
    "    data[\"address\"].append(\n",
    "        {\n",
    "            \"state\":f.unique.state(),\n",
    "            \"city\":f.unique.city(),\n",
    "            \"zipcode\":f.unique.zipcode()\n",
    "        }\n",
    "    )\n",
    "\n",
    "df = pd.DataFrame.from_dict(data)\n",
    "df"
   ]
  },
  {
   "cell_type": "code",
   "execution_count": null,
   "metadata": {},
   "outputs": [],
   "source": [
    "df.to_json(\"json_data0.json\",orient='records', lines=True)"
   ]
  },
  {
   "cell_type": "code",
   "execution_count": null,
   "metadata": {},
   "outputs": [],
   "source": [
    "df.to_csv(\"csv_data0.csv\",index=False)"
   ]
  }
 ],
 "metadata": {
  "kernelspec": {
   "display_name": "Python 3",
   "language": "python",
   "name": "python3"
  },
  "language_info": {
   "codemirror_mode": {
    "name": "ipython",
    "version": 3
   },
   "file_extension": ".py",
   "mimetype": "text/x-python",
   "name": "python",
   "nbconvert_exporter": "python",
   "pygments_lexer": "ipython3",
   "version": "3.9.6"
  },
  "orig_nbformat": 4
 },
 "nbformat": 4,
 "nbformat_minor": 2
}
