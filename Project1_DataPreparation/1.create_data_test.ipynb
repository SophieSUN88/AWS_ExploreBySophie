{
 "cells": [
  {
   "cell_type": "code",
   "execution_count": 2,
   "metadata": {},
   "outputs": [],
   "source": [
    "from faker import Faker\n",
    "import pandas as pd\n",
    "\n",
    "f = Faker()"
   ]
  },
  {
   "cell_type": "code",
   "execution_count": 3,
   "metadata": {},
   "outputs": [
    {
     "data": {
      "text/plain": [
       "'Gloria'"
      ]
     },
     "execution_count": 3,
     "metadata": {},
     "output_type": "execute_result"
    }
   ],
   "source": [
    "f.unique.first_name()"
   ]
  },
  {
   "cell_type": "code",
   "execution_count": 4,
   "metadata": {},
   "outputs": [
    {
     "data": {
      "text/plain": [
       "'Walker'"
      ]
     },
     "execution_count": 4,
     "metadata": {},
     "output_type": "execute_result"
    }
   ],
   "source": [
    "f.unique.last_name()"
   ]
  },
  {
   "cell_type": "code",
   "execution_count": 5,
   "metadata": {},
   "outputs": [
    {
     "data": {
      "text/plain": [
       "'032-48-4554'"
      ]
     },
     "execution_count": 5,
     "metadata": {},
     "output_type": "execute_result"
    }
   ],
   "source": [
    "f.unique.ssn()"
   ]
  },
  {
   "cell_type": "code",
   "execution_count": 6,
   "metadata": {},
   "outputs": [
    {
     "data": {
      "text/plain": [
       "'6942 Hart Canyon Suite 169\\nNew Marissamouth, KY 17902'"
      ]
     },
     "execution_count": 6,
     "metadata": {},
     "output_type": "execute_result"
    }
   ],
   "source": [
    "f.address()"
   ]
  },
  {
   "cell_type": "code",
   "execution_count": 7,
   "metadata": {},
   "outputs": [
    {
     "data": {
      "text/plain": [
       "'deannarose@example.net'"
      ]
     },
     "execution_count": 7,
     "metadata": {},
     "output_type": "execute_result"
    }
   ],
   "source": [
    "f.email()"
   ]
  },
  {
   "cell_type": "code",
   "execution_count": 8,
   "metadata": {},
   "outputs": [
    {
     "data": {
      "text/plain": [
       "'Uzbekistan'"
      ]
     },
     "execution_count": 8,
     "metadata": {},
     "output_type": "execute_result"
    }
   ],
   "source": [
    "f.country()"
   ]
  },
  {
   "cell_type": "code",
   "execution_count": 9,
   "metadata": {},
   "outputs": [
    {
     "name": "stdout",
     "output_type": "stream",
     "text": [
      "51.190909\n",
      "-69.521950\n"
     ]
    }
   ],
   "source": [
    "print(f.latitude())\n",
    "print(f.longitude())"
   ]
  },
  {
   "cell_type": "code",
   "execution_count": 10,
   "metadata": {},
   "outputs": [
    {
     "name": "stdout",
     "output_type": "stream",
     "text": [
      "1992-08-26\n",
      "1971-06-27 21:13:41\n",
      "2019\n",
      "10\n",
      "17\n"
     ]
    }
   ],
   "source": [
    "from datetime import datetime\n",
    "print(f.date())\n",
    "print(f.date_time())\n",
    "print(f.date_between_dates(date_start=datetime(2015,1,1), date_end=datetime(2019,12,31)).year)\n",
    "print(f.date_between_dates(date_start=datetime(2015,1,1), date_end=datetime(2019,12,31)).month)\n",
    "print(f.date_between_dates(date_start=datetime(2015,1,1), date_end=datetime(2019,12,31)).day)"
   ]
  },
  {
   "cell_type": "code",
   "execution_count": 11,
   "metadata": {},
   "outputs": [
    {
     "data": {
      "text/plain": [
       "{'job': 'Medical illustrator',\n",
       " 'company': 'Austin and Sons',\n",
       " 'ssn': '027-72-1246',\n",
       " 'residence': '7778 Collins Mews\\nNew Laura, OR 75412',\n",
       " 'current_location': (Decimal('-43.358530'), Decimal('145.810622')),\n",
       " 'blood_group': 'O-',\n",
       " 'website': ['https://johnson.com/',\n",
       "  'http://www.pearson-page.org/',\n",
       "  'http://www.rogers-ramsey.org/',\n",
       "  'http://webster.com/'],\n",
       " 'username': 'susan25',\n",
       " 'name': 'Stephanie Bowen',\n",
       " 'sex': 'F',\n",
       " 'address': '30622 Robert Village\\nDixonfort, KS 62396',\n",
       " 'mail': 'suzanne24@gmail.com',\n",
       " 'birthdate': datetime.date(1973, 9, 24)}"
      ]
     },
     "execution_count": 11,
     "metadata": {},
     "output_type": "execute_result"
    }
   ],
   "source": [
    "f.profile()"
   ]
  },
  {
   "cell_type": "code",
   "execution_count": 23,
   "metadata": {},
   "outputs": [
    {
     "data": {
      "text/html": [
       "<div>\n",
       "<style scoped>\n",
       "    .dataframe tbody tr th:only-of-type {\n",
       "        vertical-align: middle;\n",
       "    }\n",
       "\n",
       "    .dataframe tbody tr th {\n",
       "        vertical-align: top;\n",
       "    }\n",
       "\n",
       "    .dataframe thead th {\n",
       "        text-align: right;\n",
       "    }\n",
       "</style>\n",
       "<table border=\"1\" class=\"dataframe\">\n",
       "  <thead>\n",
       "    <tr style=\"text-align: right;\">\n",
       "      <th></th>\n",
       "      <th>firstname</th>\n",
       "      <th>lastname</th>\n",
       "      <th>ssn</th>\n",
       "      <th>date</th>\n",
       "    </tr>\n",
       "  </thead>\n",
       "  <tbody>\n",
       "    <tr>\n",
       "      <th>0</th>\n",
       "      <td>Jonathan</td>\n",
       "      <td>Vasquez</td>\n",
       "      <td>577-55-6633</td>\n",
       "      <td>1983-11-21</td>\n",
       "    </tr>\n",
       "    <tr>\n",
       "      <th>1</th>\n",
       "      <td>Lynn</td>\n",
       "      <td>Johnson</td>\n",
       "      <td>168-33-3620</td>\n",
       "      <td>1987-06-05</td>\n",
       "    </tr>\n",
       "    <tr>\n",
       "      <th>2</th>\n",
       "      <td>Mary</td>\n",
       "      <td>Lyons</td>\n",
       "      <td>658-52-1235</td>\n",
       "      <td>1976-07-23</td>\n",
       "    </tr>\n",
       "    <tr>\n",
       "      <th>3</th>\n",
       "      <td>Linda</td>\n",
       "      <td>Miller</td>\n",
       "      <td>826-81-7987</td>\n",
       "      <td>2007-07-07</td>\n",
       "    </tr>\n",
       "    <tr>\n",
       "      <th>4</th>\n",
       "      <td>Blake</td>\n",
       "      <td>Brown</td>\n",
       "      <td>359-22-9999</td>\n",
       "      <td>2008-12-29</td>\n",
       "    </tr>\n",
       "  </tbody>\n",
       "</table>\n",
       "</div>"
      ],
      "text/plain": [
       "  firstname lastname          ssn        date\n",
       "0  Jonathan  Vasquez  577-55-6633  1983-11-21\n",
       "1      Lynn  Johnson  168-33-3620  1987-06-05\n",
       "2      Mary    Lyons  658-52-1235  1976-07-23\n",
       "3     Linda   Miller  826-81-7987  2007-07-07\n",
       "4     Blake    Brown  359-22-9999  2008-12-29"
      ]
     },
     "execution_count": 23,
     "metadata": {},
     "output_type": "execute_result"
    }
   ],
   "source": [
    "\n",
    "data = {\n",
    "    \"firstname\" : [],\n",
    "    \"lastname\" : [],\n",
    "    \"ssn\" : [],\n",
    "    \"date\":[]\n",
    "}\n",
    "for i in range(5):\n",
    "    data[\"firstname\"].append(f.unique.first_name())\n",
    "    data[\"lastname\"].append(f.unique.last_name())\n",
    "    data[\"ssn\"].append(f.unique.ssn())\n",
    "    data[\"date\"].append(f.date())\n",
    "\n",
    "df_simple = pd.DataFrame.from_dict(data)\n",
    "df_simple\n"
   ]
  },
  {
   "cell_type": "code",
   "execution_count": 24,
   "metadata": {},
   "outputs": [],
   "source": [
    "df_simple.to_csv(\"csv_data_simple.csv\", index=False)\n",
    "df_simple.to_json(\"json_data_simple.json\",orient='records', lines=True)"
   ]
  },
  {
   "cell_type": "code",
   "execution_count": 28,
   "metadata": {},
   "outputs": [
    {
     "data": {
      "text/html": [
       "<div>\n",
       "<style scoped>\n",
       "    .dataframe tbody tr th:only-of-type {\n",
       "        vertical-align: middle;\n",
       "    }\n",
       "\n",
       "    .dataframe tbody tr th {\n",
       "        vertical-align: top;\n",
       "    }\n",
       "\n",
       "    .dataframe thead th {\n",
       "        text-align: right;\n",
       "    }\n",
       "</style>\n",
       "<table border=\"1\" class=\"dataframe\">\n",
       "  <thead>\n",
       "    <tr style=\"text-align: right;\">\n",
       "      <th></th>\n",
       "      <th>firstname</th>\n",
       "      <th>lastname</th>\n",
       "      <th>ssn</th>\n",
       "      <th>date</th>\n",
       "      <th>profile</th>\n",
       "    </tr>\n",
       "  </thead>\n",
       "  <tbody>\n",
       "    <tr>\n",
       "      <th>0</th>\n",
       "      <td>Krista</td>\n",
       "      <td>Salazar</td>\n",
       "      <td>146-49-2929</td>\n",
       "      <td>1973-01-14</td>\n",
       "      <td>{'job': 'Acupuncturist', 'company': 'Estrada-H...</td>\n",
       "    </tr>\n",
       "    <tr>\n",
       "      <th>1</th>\n",
       "      <td>Michele</td>\n",
       "      <td>Weber</td>\n",
       "      <td>784-27-3604</td>\n",
       "      <td>2014-06-19</td>\n",
       "      <td>{'job': 'Legal secretary', 'company': 'Scott a...</td>\n",
       "    </tr>\n",
       "    <tr>\n",
       "      <th>2</th>\n",
       "      <td>Sandra</td>\n",
       "      <td>Lane</td>\n",
       "      <td>564-77-8887</td>\n",
       "      <td>2017-08-14</td>\n",
       "      <td>{'job': 'Psychologist, occupational', 'company...</td>\n",
       "    </tr>\n",
       "    <tr>\n",
       "      <th>3</th>\n",
       "      <td>Carolyn</td>\n",
       "      <td>Diaz</td>\n",
       "      <td>197-74-7741</td>\n",
       "      <td>2011-11-14</td>\n",
       "      <td>{'job': 'Ranger/warden', 'company': 'Graham, T...</td>\n",
       "    </tr>\n",
       "    <tr>\n",
       "      <th>4</th>\n",
       "      <td>Erik</td>\n",
       "      <td>Reese</td>\n",
       "      <td>437-45-3219</td>\n",
       "      <td>1984-03-28</td>\n",
       "      <td>{'job': 'Designer, textile', 'company': 'Garci...</td>\n",
       "    </tr>\n",
       "  </tbody>\n",
       "</table>\n",
       "</div>"
      ],
      "text/plain": [
       "  firstname lastname          ssn        date  \\\n",
       "0    Krista  Salazar  146-49-2929  1973-01-14   \n",
       "1   Michele    Weber  784-27-3604  2014-06-19   \n",
       "2    Sandra     Lane  564-77-8887  2017-08-14   \n",
       "3   Carolyn     Diaz  197-74-7741  2011-11-14   \n",
       "4      Erik    Reese  437-45-3219  1984-03-28   \n",
       "\n",
       "                                             profile  \n",
       "0  {'job': 'Acupuncturist', 'company': 'Estrada-H...  \n",
       "1  {'job': 'Legal secretary', 'company': 'Scott a...  \n",
       "2  {'job': 'Psychologist, occupational', 'company...  \n",
       "3  {'job': 'Ranger/warden', 'company': 'Graham, T...  \n",
       "4  {'job': 'Designer, textile', 'company': 'Garci...  "
      ]
     },
     "execution_count": 28,
     "metadata": {},
     "output_type": "execute_result"
    }
   ],
   "source": [
    "data = {\n",
    "    \"firstname\" : [],\n",
    "    \"lastname\" : [],\n",
    "    \"ssn\" : [],\n",
    "    \"date\":[],\n",
    "    \"profile\":[]\n",
    "}\n",
    "for i in range(5):\n",
    "    data[\"firstname\"].append(f.unique.first_name())\n",
    "    data[\"lastname\"].append(f.unique.last_name())\n",
    "    data[\"ssn\"].append(f.unique.ssn())\n",
    "    data[\"date\"].append(f.date())\n",
    "    data[\"profile\"].append(f.profile())\n",
    "\n",
    "df_complex = pd.DataFrame.from_dict(data)\n",
    "df_complex"
   ]
  },
  {
   "cell_type": "code",
   "execution_count": 26,
   "metadata": {},
   "outputs": [],
   "source": [
    "df_complex.to_csv(\"csv_data_complex.csv\", index=False)\n",
    "df_complex.to_json(\"json_data_complex.json\",orient='records', lines=True)"
   ]
  },
  {
   "cell_type": "code",
   "execution_count": null,
   "metadata": {},
   "outputs": [],
   "source": []
  }
 ],
 "metadata": {
  "kernelspec": {
   "display_name": "Python 3",
   "language": "python",
   "name": "python3"
  },
  "language_info": {
   "codemirror_mode": {
    "name": "ipython",
    "version": 3
   },
   "file_extension": ".py",
   "mimetype": "text/x-python",
   "name": "python",
   "nbconvert_exporter": "python",
   "pygments_lexer": "ipython3",
   "version": "3.9.6"
  },
  "orig_nbformat": 4
 },
 "nbformat": 4,
 "nbformat_minor": 2
}
